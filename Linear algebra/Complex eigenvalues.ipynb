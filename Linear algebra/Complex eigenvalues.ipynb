{
 "cells": [
  {
   "cell_type": "code",
   "execution_count": 54,
   "metadata": {},
   "outputs": [],
   "source": [
    "import numpy as np\n",
    "from scipy import linalg\n",
    "a = np.array([\n",
    "    [-1.4, -2.0, -2.0, -2.0],\n",
    "    [-1.3, -0.8, -0.1, -0.6],\n",
    "    [0.3, -1.9, -1.6, -1.4],\n",
    "    [2.0, 3.3, 2.3, 2.6]])\n"
   ]
  },
  {
   "cell_type": "code",
   "execution_count": 55,
   "metadata": {},
   "outputs": [
    {
     "name": "stdout",
     "output_type": "stream",
     "text": [
      "[-0.4+1.j  -0.4-1.j  -0.2+0.5j -0.2-0.5j]\n",
      "(-0.19999999999999915-0.5000000000000004j)\n"
     ]
    }
   ],
   "source": [
    "v= linalg.eigvals(a)\n",
    "print(v)\n",
    "print(v[3])"
   ]
  },
  {
   "cell_type": "code",
   "execution_count": 60,
   "metadata": {},
   "outputs": [
    {
     "name": "stdout",
     "output_type": "stream",
     "text": [
      "[[-5.34522484e-01-0.j        ]\n",
      " [ 6.14599768e-16+0.53452248j]\n",
      " [ 1.32929646e-15-0.53452248j]\n",
      " [ 2.67261242e-01-0.26726124j]]\n",
      "[[ 0.        -0.j        ]\n",
      " [ 0.42400987-0.26498232j]\n",
      " [-0.26498232-0.42400987j]\n",
      " [-0.15902755+0.68899219j]]\n"
     ]
    }
   ],
   "source": [
    "ns1 = linalg.null_space(a-v[1]*np.eye(4),rcond=1e-7)\n",
    "print(ns1)\n",
    "ns2= linalg.null_space(a-v[3]*np.eye(4),rcond=1e-7)\n",
    "print(ns2)"
   ]
  },
  {
   "cell_type": "code",
   "execution_count": null,
   "metadata": {},
   "outputs": [],
   "source": []
  },
  {
   "cell_type": "code",
   "execution_count": null,
   "metadata": {},
   "outputs": [],
   "source": []
  },
  {
   "cell_type": "code",
   "execution_count": null,
   "metadata": {},
   "outputs": [],
   "source": []
  }
 ],
 "metadata": {
  "kernelspec": {
   "display_name": "Python 3",
   "language": "python",
   "name": "python3"
  },
  "language_info": {
   "codemirror_mode": {
    "name": "ipython",
    "version": 3
   },
   "file_extension": ".py",
   "mimetype": "text/x-python",
   "name": "python",
   "nbconvert_exporter": "python",
   "pygments_lexer": "ipython3",
   "version": "3.8.3"
  }
 },
 "nbformat": 4,
 "nbformat_minor": 4
}
