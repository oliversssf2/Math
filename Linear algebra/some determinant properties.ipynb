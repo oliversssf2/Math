{
 "cells": [
  {
   "cell_type": "code",
   "execution_count": 30,
   "metadata": {},
   "outputs": [
    {
     "name": "stdout",
     "output_type": "stream",
     "text": [
      "[[-992 -521  523  201  404]\n",
      " [ 153 -791 -168  807  528]\n",
      " [ 993 -158  135 -267   75]\n",
      " [ 758 -306 -638 -491 -139]]\n",
      "[[-651  824  440 -574  915]\n",
      " [-708  615  632  403 -493]\n",
      " [ 431 -394 -232  225 -852]\n",
      " [-528  898   99 -838  229]]\n"
     ]
    }
   ],
   "source": [
    "#random matrices setup\n",
    "import numpy as np\n",
    "a1 = np.random.randint(-1000,1000,size=(4,5))\n",
    "a2 = np.random.randint(-1000,1000,size=(4,5))\n",
    "print(a1)\n",
    "print(a2)"
   ]
  },
  {
   "cell_type": "markdown",
   "metadata": {},
   "source": [
    "### Property 1: Det(AB) = Det(A)*Det(b)"
   ]
  },
  {
   "cell_type": "code",
   "execution_count": 3,
   "metadata": {},
   "outputs": [],
   "source": [
    "d1 = np.linalg.det(a1)\n",
    "d2 = np.linalg.det(a2)\n",
    "d12tgt = np.linalg.det(a1@a2)\n",
    "d12sep = d1*d2"
   ]
  },
  {
   "cell_type": "code",
   "execution_count": null,
   "metadata": {},
   "outputs": [],
   "source": [
    "print('Determinant calculated together:' + '\\t' + str(d12tgt))\n",
    "print('Determinant calculated separately:' + '\\t' + str(d12sep))"
   ]
  },
  {
   "cell_type": "markdown",
   "metadata": {},
   "source": [
    "### Property 2: The sum of two determinants does not equal to the determinant of the sum of the two matrices"
   ]
  },
  {
   "cell_type": "code",
   "execution_count": null,
   "metadata": {},
   "outputs": [],
   "source": [
    "d12sumsep = d1+d2\n",
    "d12sumtgt = np.linalg.det(a1+a2)\n",
    "print('Sum of determinant calculated together:' + '\\t' + str(d12sumtgt))\n",
    "print('Sum of determinant calculated separately:' + '\\t' + str(d12sumsep))"
   ]
  },
  {
   "cell_type": "code",
   "execution_count": 31,
   "metadata": {},
   "outputs": [
    {
     "name": "stdout",
     "output_type": "stream",
     "text": [
      "Determinant of AAt: \t7.456730181518743e+23\n",
      "Determinant of AtA: \t-22545556399321.32\n"
     ]
    }
   ],
   "source": [
    "a1t = np.transpose(a1)\n",
    "da1a1t = np.linalg.det(a1@a1t)\n",
    "da1ta1 = np.linalg.det(a1t@a1)\n",
    "\n",
    "print('Determinant of AAt: ' + '\\t' + str(da1a1t))\n",
    "print('Determinant of AtA: ' + '\\t' + str(da1ta1))\n",
    "\n"
   ]
  },
  {
   "cell_type": "code",
   "execution_count": null,
   "metadata": {},
   "outputs": [],
   "source": []
  }
 ],
 "metadata": {
  "kernelspec": {
   "display_name": "Python 3",
   "language": "python",
   "name": "python3"
  },
  "language_info": {
   "codemirror_mode": {
    "name": "ipython",
    "version": 3
   },
   "file_extension": ".py",
   "mimetype": "text/x-python",
   "name": "python",
   "nbconvert_exporter": "python",
   "pygments_lexer": "ipython3",
   "version": "3.8.3"
  }
 },
 "nbformat": 4,
 "nbformat_minor": 4
}
